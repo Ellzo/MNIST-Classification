{
 "cells": [
  {
   "cell_type": "markdown",
   "id": "7bc86a6d",
   "metadata": {},
   "source": [
    "## Importing MNIST Dataset"
   ]
  },
  {
   "cell_type": "code",
   "execution_count": 118,
   "id": "173ba28d",
   "metadata": {},
   "outputs": [
    {
     "data": {
      "text/plain": [
       "dict_keys(['data', 'target', 'frame', 'categories', 'feature_names', 'target_names', 'DESCR', 'details', 'url'])"
      ]
     },
     "execution_count": 118,
     "metadata": {},
     "output_type": "execute_result"
    }
   ],
   "source": [
    "# Fetch MNIST dataset\n",
    "from sklearn.datasets import fetch_openml\n",
    "\n",
    "mnist = fetch_openml('mnist_784', version=1, parser='auto')\n",
    "mnist.keys()"
   ]
  },
  {
   "cell_type": "code",
   "execution_count": 2,
   "id": "b3fe79f0",
   "metadata": {},
   "outputs": [],
   "source": [
    "X, y = mnist['data'], mnist['target']"
   ]
  },
  {
   "cell_type": "code",
   "execution_count": 3,
   "id": "0bd50400",
   "metadata": {},
   "outputs": [
    {
     "data": {
      "text/plain": [
       "(70000, 784)"
      ]
     },
     "execution_count": 3,
     "metadata": {},
     "output_type": "execute_result"
    }
   ],
   "source": [
    "X.shape"
   ]
  },
  {
   "cell_type": "code",
   "execution_count": 4,
   "id": "692b6f44",
   "metadata": {},
   "outputs": [],
   "source": [
    "def show_digit(pixels):\n",
    "    import matplotlib as mpl\n",
    "    import matplotlib.pyplot as plt\n",
    "    digit_img = pixels.reshape(28, 28)\n",
    "    plt.imshow(digit_img, cmap= mpl.cm.binary, interpolation='nearest')\n",
    "    plt.axis('off')\n",
    "    plt.show()"
   ]
  },
  {
   "cell_type": "code",
   "execution_count": 5,
   "id": "a1fa8ac6",
   "metadata": {},
   "outputs": [
    {
     "data": {
      "image/png": "[encoded data removed]",
      "text/plain": [
       "<Figure size 640x480 with 1 Axes>"
      ]
     },
     "metadata": {},
     "output_type": "display_data"
    }
   ],
   "source": [
    "from random import randrange\n",
    "\n",
    "random_digit = randrange(len(X))\n",
    "show_digit(X.iloc[random_digit].values)"
   ]
  },
  {
   "cell_type": "code",
   "execution_count": 6,
   "id": "92472189",
   "metadata": {},
   "outputs": [],
   "source": [
    "# Split into test and train\n",
    "X_train, X_test, y_train, y_test = X[:60000], X[60000:], y[:60000], y[60000:] # The data is already shuffled for us"
   ]
  },
  {
   "cell_type": "code",
   "execution_count": 8,
   "id": "c69073cd",
   "metadata": {},
   "outputs": [
    {
     "data": {
      "text/plain": [
       "(60000, 784)"
      ]
     },
     "execution_count": 8,
     "metadata": {},
     "output_type": "execute_result"
    }
   ],
   "source": [
    "X_train.shape"
   ]
  },
  {
   "cell_type": "code",
   "execution_count": 12,
   "id": "e118bb60",
   "metadata": {
    "scrolled": true
   },
   "outputs": [
    {
     "data": {
      "text/plain": [
       "1    0.112367\n",
       "7    0.104417\n",
       "3    0.102183\n",
       "2    0.099300\n",
       "9    0.099150\n",
       "0    0.098717\n",
       "6    0.098633\n",
       "8    0.097517\n",
       "4    0.097367\n",
       "5    0.090350\n",
       "Name: class, dtype: float64"
      ]
     },
     "execution_count": 12,
     "metadata": {},
     "output_type": "execute_result"
    }
   ],
   "source": [
    "c.value_counts(normalize=True)"
   ]
  },
  {
   "cell_type": "markdown",
   "id": "cb2b305e",
   "metadata": {},
   "source": [
    "## Data Preprocessing"
   ]
  },
  {
   "cell_type": "code",
   "execution_count": 48,
   "id": "e6589618",
   "metadata": {},
   "outputs": [],
   "source": [
    "from sklearn.preprocessing import StandardScaler\n",
    "\n",
    "scaler = StandardScaler()\n",
    "X_train_scaled = scaler.fit_transform(X_train.astype(np.float64))"
   ]
  },
  {
   "cell_type": "markdown",
   "id": "49e25685",
   "metadata": {},
   "source": [
    "## Training"
   ]
  },
  {
   "cell_type": "markdown",
   "id": "b1391edf",
   "metadata": {},
   "source": [
    "<b>Warning!</b>\n",
    "Some training sets might take several minutes to run "
   ]
  },
  {
   "cell_type": "code",
   "execution_count": 8,
   "id": "b39b9e60",
   "metadata": {},
   "outputs": [],
   "source": [
    "import numpy as np\n",
    "import matplotlib.pyplot as plt\n",
    "import matplotlib as mpl\n",
    "import pandas as pd\n",
    "from sklearn.model_selection import cross_val_score, cross_val_predict\n",
    "from sklearn.metrics import accuracy_score"
   ]
  },
  {
   "cell_type": "code",
   "execution_count": 37,
   "id": "177361c8",
   "metadata": {},
   "outputs": [
    {
     "name": "stdout",
     "output_type": "stream",
     "text": [
      "For Decision Tree [0.8586  0.8599  0.86265]\n"
     ]
    }
   ],
   "source": [
    "# Decision Tree\n",
    "from sklearn.tree import DecisionTreeClassifier\n",
    "\n",
    "dtc = DecisionTreeClassifier()\n",
    "dtc_scores = cross_val_score(dtc, X_train_scaled, y_train, cv=3, scoring='accuracy')\n",
    "print('For Decision Tree:', dtc_scores)"
   ]
  },
  {
   "cell_type": "code",
   "execution_count": 80,
   "id": "0b032fc0",
   "metadata": {},
   "outputs": [
    {
     "name": "stdout",
     "output_type": "stream",
     "text": [
      "For Stochastic Gradient Descent: [0.89675 0.88815 0.90045]\n"
     ]
    }
   ],
   "source": [
    "# Stochastic Gradient Descent Classifier\n",
    "from sklearn.linear_model import SGDClassifier\n",
    "\n",
    "sgdc = SGDClassifier()\n",
    "sgdc_scores = cross_val_score(sgdc, X_train_scaled, y_train, cv=3, scoring='accuracy')\n",
    "print('For Stochastic Gradient Descent:', sgdc_scores)"
   ]
  },
  {
   "cell_type": "code",
   "execution_count": 39,
   "id": "b11dcd13",
   "metadata": {},
   "outputs": [
    {
     "name": "stderr",
     "output_type": "stream",
     "text": [
      "/home/ellzo/.local/lib/python3.11/site-packages/sklearn/linear_model/_logistic.py:458: ConvergenceWarning: lbfgs failed to converge (status=1):\n",
      "STOP: TOTAL NO. of ITERATIONS REACHED LIMIT.\n",
      "\n",
      "Increase the number of iterations (max_iter) or scale the data as shown in:\n",
      "    https://scikit-learn.org/stable/modules/preprocessing.html\n",
      "Please also refer to the documentation for alternative solver options:\n",
      "    https://scikit-learn.org/stable/modules/linear_model.html#logistic-regression\n",
      "  n_iter_i = _check_optimize_result(\n",
      "/home/ellzo/.local/lib/python3.11/site-packages/sklearn/linear_model/_logistic.py:458: ConvergenceWarning: lbfgs failed to converge (status=1):\n",
      "STOP: TOTAL NO. of ITERATIONS REACHED LIMIT.\n",
      "\n",
      "Increase the number of iterations (max_iter) or scale the data as shown in:\n",
      "    https://scikit-learn.org/stable/modules/preprocessing.html\n",
      "Please also refer to the documentation for alternative solver options:\n",
      "    https://scikit-learn.org/stable/modules/linear_model.html#logistic-regression\n",
      "  n_iter_i = _check_optimize_result(\n"
     ]
    },
    {
     "name": "stdout",
     "output_type": "stream",
     "text": [
      "For Logistic Regression [0.91275 0.91565 0.9171 ]\n"
     ]
    },
    {
     "name": "stderr",
     "output_type": "stream",
     "text": [
      "/home/ellzo/.local/lib/python3.11/site-packages/sklearn/linear_model/_logistic.py:458: ConvergenceWarning: lbfgs failed to converge (status=1):\n",
      "STOP: TOTAL NO. of ITERATIONS REACHED LIMIT.\n",
      "\n",
      "Increase the number of iterations (max_iter) or scale the data as shown in:\n",
      "    https://scikit-learn.org/stable/modules/preprocessing.html\n",
      "Please also refer to the documentation for alternative solver options:\n",
      "    https://scikit-learn.org/stable/modules/linear_model.html#logistic-regression\n",
      "  n_iter_i = _check_optimize_result(\n"
     ]
    }
   ],
   "source": [
    "# Logistic Regression\n",
    "from sklearn.linear_model import LogisticRegression\n",
    "\n",
    "lrc = LogisticRegression()\n",
    "lrc_scores = cross_val_score(lrc, X_train, y_train, cv=3, scoring='accuracy')\n",
    "print('For Logistic Regression:', lrc_scores)"
   ]
  },
  {
   "cell_type": "code",
   "execution_count": 40,
   "id": "67c9e6ee",
   "metadata": {},
   "outputs": [
    {
     "name": "stdout",
     "output_type": "stream",
     "text": [
      "For K-Nearest Neighbors: [0.9676  0.9671  0.96755]\n"
     ]
    }
   ],
   "source": [
    "# K-Nearest Neighbors Classifier\n",
    "from sklearn.neighbors import KNeighborsClassifier\n",
    "\n",
    "knc = KNeighborsClassifier()\n",
    "knc_scores = cross_val_score(knc, X_train, y_train, cv=3, scoring='accuracy')\n",
    "print('For K-Nearest Neighbors:', knc_scores)"
   ]
  },
  {
   "cell_type": "code",
   "execution_count": 42,
   "id": "3ee5c8ce",
   "metadata": {},
   "outputs": [
    {
     "name": "stdout",
     "output_type": "stream",
     "text": [
      "For Random Forest: [0.9651  0.96355 0.96455]\n"
     ]
    }
   ],
   "source": [
    "# Random Forest Classifier\n",
    "from sklearn.ensemble import RandomForestClassifier\n",
    "\n",
    "rfc = RandomForestClassifier()\n",
    "rfc_scores = cross_val_score(rfc, X_train, y_train, cv=3, scoring='accuracy')\n",
    "print('For Random Forest:', rfc_scores)"
   ]
  },
  {
   "cell_type": "code",
   "execution_count": 43,
   "id": "6283b76e",
   "metadata": {},
   "outputs": [
    {
     "name": "stdout",
     "output_type": "stream",
     "text": [
      "For Support Vectore Machine: [0.977  0.9738 0.9739]\n"
     ]
    }
   ],
   "source": [
    "# Support Vector Machine Classifier\n",
    "from sklearn.svm import SVC\n",
    "\n",
    "svc = SVC()\n",
    "svc_scores = cross_val_score(svc, X_train, y_train, cv=3, scoring='accuracy')\n",
    "print('For Support Vectore Machine:', svc_scores)"
   ]
  },
  {
   "cell_type": "markdown",
   "id": "bfd13d99",
   "metadata": {},
   "source": [
    "Let's plot the overall accuracy of each model and compare"
   ]
  },
  {
   "cell_type": "code",
   "execution_count": 47,
   "id": "384f350b",
   "metadata": {},
   "outputs": [
    {
     "data": {
      "image/png": "[encoded data removed]",
      "text/plain": [
       "<Figure size 640x480 with 1 Axes>"
      ]
     },
     "metadata": {},
     "output_type": "display_data"
    }
   ],
   "source": [
    "accuracy_dict = {\n",
    "    'Decision Tree': np.mean(dtc_scores),\n",
    "    'Stochastic Gradient Descent': np.mean(sgdc_scores),\n",
    "    'Logistic Regression': np.mean(lrc_scores),\n",
    "    'KNearest Neighbors': np.mean(knc_scores),\n",
    "    'Random Forest': np.mean(rfc_scores),\n",
    "    'Support Vector Machine': np.mean(svc_scores)\n",
    "}\n",
    "\n",
    "plt.bar(accuracy_dict.keys(), accuracy_dict.values(), color='g', width= 0.4)\n",
    "plt.xticks(rotation=30)\n",
    "plt.xlabel('Model')\n",
    "plt.ylabel('Accuracy')\n",
    "plt.show()"
   ]
  },
  {
   "cell_type": "markdown",
   "id": "037d937f",
   "metadata": {},
   "source": [
    "The most promising ones seem to be KNearest Neighbors, Random Forest, and Support Vector Machines! Let's do a grid search to pick the best model!"
   ]
  },
  {
   "cell_type": "markdown",
   "id": "dd0f6bda",
   "metadata": {},
   "source": [
    "### Grid Search"
   ]
  },
  {
   "cell_type": "code",
   "execution_count": 70,
   "id": "fa2d3b1d",
   "metadata": {},
   "outputs": [],
   "source": [
    "from sklearn.model_selection import GridSearchCV"
   ]
  },
  {
   "cell_type": "code",
   "execution_count": 68,
   "id": "b4b10470",
   "metadata": {},
   "outputs": [
    {
     "data": {
      "text/plain": [
       "9000"
      ]
     },
     "execution_count": 68,
     "metadata": {},
     "output_type": "execute_result"
    }
   ],
   "source": [
    "# Let's take a sample from the training set for GridSearch\n",
    "X_train_grid = X_train.sample(frac=0.15, replace=False, random_state=13)\n",
    "y_train_grid = y_train.loc[X_train_grid.index]\n",
    "\n",
    "len(y_train_grid)"
   ]
  },
  {
   "cell_type": "code",
   "execution_count": 57,
   "id": "07962317",
   "metadata": {},
   "outputs": [],
   "source": [
    "param_grid_svc = [\n",
    "    {'C': [0.05, 1, 20], 'gamma': [0.0001, 0.01, 1], 'kernel': ['linear', 'rbf']}\n",
    "]\n",
    "\n",
    "grid_search_svc = GridSearchCV(svc, param_grid_svc, cv=3, scoring='accuracy', return_train_score=True, verbose=10)\n",
    "#grid_search_svc.fit(X_train_grid, y_train_grid)"
   ]
  },
  {
   "cell_type": "code",
   "execution_count": 72,
   "id": "a6d71fae",
   "metadata": {},
   "outputs": [
    {
     "data": {
      "text/html": [
       "<style>#sk-container-id-1 {color: black;background-color: white;}#sk-container-id-1 pre{padding: 0;}#sk-container-id-1 div.sk-toggleable {background-color: white;}#sk-container-id-1 label.sk-toggleable__label {cursor: pointer;display: block;width: 100%;margin-bottom: 0;padding: 0.3em;box-sizing: border-box;text-align: center;}#sk-container-id-1 label.sk-toggleable__label-arrow:before {content: \"▸\";float: left;margin-right: 0.25em;color: #696969;}#sk-container-id-1 label.sk-toggleable__label-arrow:hover:before {color: black;}#sk-container-id-1 div.sk-estimator:hover label.sk-toggleable__label-arrow:before {color: black;}#sk-container-id-1 div.sk-toggleable__content {max-height: 0;max-width: 0;overflow: hidden;text-align: left;background-color: #f0f8ff;}#sk-container-id-1 div.sk-toggleable__content pre {margin: 0.2em;color: black;border-radius: 0.25em;background-color: #f0f8ff;}#sk-container-id-1 input.sk-toggleable__control:checked~div.sk-toggleable__content {max-height: 200px;max-width: 100%;overflow: auto;}#sk-container-id-1 input.sk-toggleable__control:checked~label.sk-toggleable__label-arrow:before {content: \"▾\";}#sk-container-id-1 div.sk-estimator input.sk-toggleable__control:checked~label.sk-toggleable__label {background-color: #d4ebff;}#sk-container-id-1 div.sk-label input.sk-toggleable__control:checked~label.sk-toggleable__label {background-color: #d4ebff;}#sk-container-id-1 input.sk-hidden--visually {border: 0;clip: rect(1px 1px 1px 1px);clip: rect(1px, 1px, 1px, 1px);height: 1px;margin: -1px;overflow: hidden;padding: 0;position: absolute;width: 1px;}#sk-container-id-1 div.sk-estimator {font-family: monospace;background-color: #f0f8ff;border: 1px dotted black;border-radius: 0.25em;box-sizing: border-box;margin-bottom: 0.5em;}#sk-container-id-1 div.sk-estimator:hover {background-color: #d4ebff;}#sk-container-id-1 div.sk-parallel-item::after {content: \"\";width: 100%;border-bottom: 1px solid gray;flex-grow: 1;}#sk-container-id-1 div.sk-label:hover label.sk-toggleable__label {background-color: #d4ebff;}#sk-container-id-1 div.sk-serial::before {content: \"\";position: absolute;border-left: 1px solid gray;box-sizing: border-box;top: 0;bottom: 0;left: 50%;z-index: 0;}#sk-container-id-1 div.sk-serial {display: flex;flex-direction: column;align-items: center;background-color: white;padding-right: 0.2em;padding-left: 0.2em;position: relative;}#sk-container-id-1 div.sk-item {position: relative;z-index: 1;}#sk-container-id-1 div.sk-parallel {display: flex;align-items: stretch;justify-content: center;background-color: white;position: relative;}#sk-container-id-1 div.sk-item::before, #sk-container-id-1 div.sk-parallel-item::before {content: \"\";position: absolute;border-left: 1px solid gray;box-sizing: border-box;top: 0;bottom: 0;left: 50%;z-index: -1;}#sk-container-id-1 div.sk-parallel-item {display: flex;flex-direction: column;z-index: 1;position: relative;background-color: white;}#sk-container-id-1 div.sk-parallel-item:first-child::after {align-self: flex-end;width: 50%;}#sk-container-id-1 div.sk-parallel-item:last-child::after {align-self: flex-start;width: 50%;}#sk-container-id-1 div.sk-parallel-item:only-child::after {width: 0;}#sk-container-id-1 div.sk-dashed-wrapped {border: 1px dashed gray;margin: 0 0.4em 0.5em 0.4em;box-sizing: border-box;padding-bottom: 0.4em;background-color: white;}#sk-container-id-1 div.sk-label label {font-family: monospace;font-weight: bold;display: inline-block;line-height: 1.2em;}#sk-container-id-1 div.sk-label-container {text-align: center;}#sk-container-id-1 div.sk-container {/* jupyter's `normalize.less` sets `[hidden] { display: none; }` but bootstrap.min.css set `[hidden] { display: none !important; }` so we also need the `!important` here to be able to override the default hidden behavior on the sphinx rendered scikit-learn.org. See: https://github.com/scikit-learn/scikit-learn/issues/21755 */display: inline-block !important;position: relative;}#sk-container-id-1 div.sk-text-repr-fallback {display: none;}</style><div id=\"sk-container-id-1\" class=\"sk-top-container\"><div class=\"sk-text-repr-fallback\"><pre>GridSearchCV(cv=3,\n",
       "             estimator=KNeighborsClassifier(n_neighbors=6, weights=&#x27;distance&#x27;),\n",
       "             param_grid=[{&#x27;n_neighbors&#x27;: [3, 4, 5, 6, 8],\n",
       "                          &#x27;weights&#x27;: [&#x27;uniform&#x27;, &#x27;distance&#x27;]}],\n",
       "             return_train_score=True, scoring=&#x27;accuracy&#x27;)</pre><b>In a Jupyter environment, please rerun this cell to show the HTML representation or trust the notebook. <br />On GitHub, the HTML representation is unable to render, please try loading this page with nbviewer.org.</b></div><div class=\"sk-container\" hidden><div class=\"sk-item sk-dashed-wrapped\"><div class=\"sk-label-container\"><div class=\"sk-label sk-toggleable\"><input class=\"sk-toggleable__control sk-hidden--visually\" id=\"sk-estimator-id-1\" type=\"checkbox\" ><label for=\"sk-estimator-id-1\" class=\"sk-toggleable__label sk-toggleable__label-arrow\">GridSearchCV</label><div class=\"sk-toggleable__content\"><pre>GridSearchCV(cv=3,\n",
       "             estimator=KNeighborsClassifier(n_neighbors=6, weights=&#x27;distance&#x27;),\n",
       "             param_grid=[{&#x27;n_neighbors&#x27;: [3, 4, 5, 6, 8],\n",
       "                          &#x27;weights&#x27;: [&#x27;uniform&#x27;, &#x27;distance&#x27;]}],\n",
       "             return_train_score=True, scoring=&#x27;accuracy&#x27;)</pre></div></div></div><div class=\"sk-parallel\"><div class=\"sk-parallel-item\"><div class=\"sk-item\"><div class=\"sk-label-container\"><div class=\"sk-label sk-toggleable\"><input class=\"sk-toggleable__control sk-hidden--visually\" id=\"sk-estimator-id-2\" type=\"checkbox\" ><label for=\"sk-estimator-id-2\" class=\"sk-toggleable__label sk-toggleable__label-arrow\">estimator: KNeighborsClassifier</label><div class=\"sk-toggleable__content\"><pre>KNeighborsClassifier(n_neighbors=6, weights=&#x27;distance&#x27;)</pre></div></div></div><div class=\"sk-serial\"><div class=\"sk-item\"><div class=\"sk-estimator sk-toggleable\"><input class=\"sk-toggleable__control sk-hidden--visually\" id=\"sk-estimator-id-3\" type=\"checkbox\" ><label for=\"sk-estimator-id-3\" class=\"sk-toggleable__label sk-toggleable__label-arrow\">KNeighborsClassifier</label><div class=\"sk-toggleable__content\"><pre>KNeighborsClassifier(n_neighbors=6, weights=&#x27;distance&#x27;)</pre></div></div></div></div></div></div></div></div></div></div>"
      ],
      "text/plain": [
       "GridSearchCV(cv=3,\n",
       "             estimator=KNeighborsClassifier(n_neighbors=6, weights='distance'),\n",
       "             param_grid=[{'n_neighbors': [3, 4, 5, 6, 8],\n",
       "                          'weights': ['uniform', 'distance']}],\n",
       "             return_train_score=True, scoring='accuracy')"
      ]
     },
     "execution_count": 72,
     "metadata": {},
     "output_type": "execute_result"
    }
   ],
   "source": [
    "param_grid_knc = [\n",
    "    {'n_neighbors': [3, 4, 5, 6, 8], 'weights': ['uniform', 'distance']}\n",
    "]\n",
    "\n",
    "grid_search_knc = GridSearchCV(knc, param_grid_knc, cv=3, scoring='accuracy', return_train_score=True)\n",
    "grid_search_knc.fit(X_train_grid, y_train_grid)"
   ]
  },
  {
   "cell_type": "code",
   "execution_count": 73,
   "id": "8dbcd9f0",
   "metadata": {},
   "outputs": [
    {
     "name": "stdout",
     "output_type": "stream",
     "text": [
      "Best estimator for K-Nearest Neighbors is: {'n_neighbors': 4, 'weights': 'distance'}\n",
      "0.9376666666666668 {'n_neighbors': 3, 'weights': 'uniform'}\n",
      "0.9409999999999998 {'n_neighbors': 3, 'weights': 'distance'}\n",
      "0.9365555555555556 {'n_neighbors': 4, 'weights': 'uniform'}\n",
      "0.9438888888888889 {'n_neighbors': 4, 'weights': 'distance'}\n",
      "0.9377777777777778 {'n_neighbors': 5, 'weights': 'uniform'}\n",
      "0.9415555555555556 {'n_neighbors': 5, 'weights': 'distance'}\n",
      "0.9365555555555556 {'n_neighbors': 6, 'weights': 'uniform'}\n",
      "0.9420000000000001 {'n_neighbors': 6, 'weights': 'distance'}\n",
      "0.934888888888889 {'n_neighbors': 8, 'weights': 'uniform'}\n",
      "0.9391111111111111 {'n_neighbors': 8, 'weights': 'distance'}\n"
     ]
    }
   ],
   "source": [
    "print('Best estimator for K-Nearest Neighbors is:', grid_search_knc.best_params_)\n",
    "\n",
    "cvres_knc = grid_search_knc.cv_results_\n",
    "\n",
    "for mean_score, params in zip(cvres_knc[\"mean_test_score\"], cvres_knc[\"params\"]):\n",
    "    print(mean_score, params)\n",
    "\n",
    "knc_final = grid_search_knc.best_estimator_"
   ]
  },
  {
   "cell_type": "code",
   "execution_count": 76,
   "id": "87618fb7",
   "metadata": {},
   "outputs": [
    {
     "name": "stdout",
     "output_type": "stream",
     "text": [
      "Fitting 3 folds for each of 4 candidates, totalling 12 fits\n",
      "[CV 1/3; 1/4] START max_features=48, n_estimators=960...........................\n",
      "[CV 1/3; 1/4] END max_features=48, n_estimators=960;, score=(train=1.000, test=0.945) total time=  23.5s\n",
      "[CV 2/3; 1/4] START max_features=48, n_estimators=960...........................\n",
      "[CV 2/3; 1/4] END max_features=48, n_estimators=960;, score=(train=1.000, test=0.937) total time=  24.8s\n",
      "[CV 3/3; 1/4] START max_features=48, n_estimators=960...........................\n",
      "[CV 3/3; 1/4] END max_features=48, n_estimators=960;, score=(train=1.000, test=0.944) total time=  23.9s\n",
      "[CV 1/3; 2/4] START max_features=48, n_estimators=1500..........................\n",
      "[CV 1/3; 2/4] END max_features=48, n_estimators=1500;, score=(train=1.000, test=0.947) total time=  39.3s\n",
      "[CV 2/3; 2/4] START max_features=48, n_estimators=1500..........................\n",
      "[CV 2/3; 2/4] END max_features=48, n_estimators=1500;, score=(train=1.000, test=0.939) total time=  36.9s\n",
      "[CV 3/3; 2/4] START max_features=48, n_estimators=1500..........................\n",
      "[CV 3/3; 2/4] END max_features=48, n_estimators=1500;, score=(train=1.000, test=0.942) total time=  36.9s\n",
      "[CV 1/3; 3/4] START max_features=64, n_estimators=960...........................\n",
      "[CV 1/3; 3/4] END max_features=64, n_estimators=960;, score=(train=1.000, test=0.946) total time=  30.3s\n",
      "[CV 2/3; 3/4] START max_features=64, n_estimators=960...........................\n",
      "[CV 2/3; 3/4] END max_features=64, n_estimators=960;, score=(train=1.000, test=0.939) total time=  31.2s\n",
      "[CV 3/3; 3/4] START max_features=64, n_estimators=960...........................\n",
      "[CV 3/3; 3/4] END max_features=64, n_estimators=960;, score=(train=1.000, test=0.941) total time=  31.0s\n",
      "[CV 1/3; 4/4] START max_features=64, n_estimators=1500..........................\n",
      "[CV 1/3; 4/4] END max_features=64, n_estimators=1500;, score=(train=1.000, test=0.945) total time=  47.4s\n",
      "[CV 2/3; 4/4] START max_features=64, n_estimators=1500..........................\n",
      "[CV 2/3; 4/4] END max_features=64, n_estimators=1500;, score=(train=1.000, test=0.938) total time=  51.1s\n",
      "[CV 3/3; 4/4] START max_features=64, n_estimators=1500..........................\n",
      "[CV 3/3; 4/4] END max_features=64, n_estimators=1500;, score=(train=1.000, test=0.942) total time=  50.7s\n"
     ]
    },
    {
     "data": {
      "text/html": [
       "<style>#sk-container-id-2 {color: black;background-color: white;}#sk-container-id-2 pre{padding: 0;}#sk-container-id-2 div.sk-toggleable {background-color: white;}#sk-container-id-2 label.sk-toggleable__label {cursor: pointer;display: block;width: 100%;margin-bottom: 0;padding: 0.3em;box-sizing: border-box;text-align: center;}#sk-container-id-2 label.sk-toggleable__label-arrow:before {content: \"▸\";float: left;margin-right: 0.25em;color: #696969;}#sk-container-id-2 label.sk-toggleable__label-arrow:hover:before {color: black;}#sk-container-id-2 div.sk-estimator:hover label.sk-toggleable__label-arrow:before {color: black;}#sk-container-id-2 div.sk-toggleable__content {max-height: 0;max-width: 0;overflow: hidden;text-align: left;background-color: #f0f8ff;}#sk-container-id-2 div.sk-toggleable__content pre {margin: 0.2em;color: black;border-radius: 0.25em;background-color: #f0f8ff;}#sk-container-id-2 input.sk-toggleable__control:checked~div.sk-toggleable__content {max-height: 200px;max-width: 100%;overflow: auto;}#sk-container-id-2 input.sk-toggleable__control:checked~label.sk-toggleable__label-arrow:before {content: \"▾\";}#sk-container-id-2 div.sk-estimator input.sk-toggleable__control:checked~label.sk-toggleable__label {background-color: #d4ebff;}#sk-container-id-2 div.sk-label input.sk-toggleable__control:checked~label.sk-toggleable__label {background-color: #d4ebff;}#sk-container-id-2 input.sk-hidden--visually {border: 0;clip: rect(1px 1px 1px 1px);clip: rect(1px, 1px, 1px, 1px);height: 1px;margin: -1px;overflow: hidden;padding: 0;position: absolute;width: 1px;}#sk-container-id-2 div.sk-estimator {font-family: monospace;background-color: #f0f8ff;border: 1px dotted black;border-radius: 0.25em;box-sizing: border-box;margin-bottom: 0.5em;}#sk-container-id-2 div.sk-estimator:hover {background-color: #d4ebff;}#sk-container-id-2 div.sk-parallel-item::after {content: \"\";width: 100%;border-bottom: 1px solid gray;flex-grow: 1;}#sk-container-id-2 div.sk-label:hover label.sk-toggleable__label {background-color: #d4ebff;}#sk-container-id-2 div.sk-serial::before {content: \"\";position: absolute;border-left: 1px solid gray;box-sizing: border-box;top: 0;bottom: 0;left: 50%;z-index: 0;}#sk-container-id-2 div.sk-serial {display: flex;flex-direction: column;align-items: center;background-color: white;padding-right: 0.2em;padding-left: 0.2em;position: relative;}#sk-container-id-2 div.sk-item {position: relative;z-index: 1;}#sk-container-id-2 div.sk-parallel {display: flex;align-items: stretch;justify-content: center;background-color: white;position: relative;}#sk-container-id-2 div.sk-item::before, #sk-container-id-2 div.sk-parallel-item::before {content: \"\";position: absolute;border-left: 1px solid gray;box-sizing: border-box;top: 0;bottom: 0;left: 50%;z-index: -1;}#sk-container-id-2 div.sk-parallel-item {display: flex;flex-direction: column;z-index: 1;position: relative;background-color: white;}#sk-container-id-2 div.sk-parallel-item:first-child::after {align-self: flex-end;width: 50%;}#sk-container-id-2 div.sk-parallel-item:last-child::after {align-self: flex-start;width: 50%;}#sk-container-id-2 div.sk-parallel-item:only-child::after {width: 0;}#sk-container-id-2 div.sk-dashed-wrapped {border: 1px dashed gray;margin: 0 0.4em 0.5em 0.4em;box-sizing: border-box;padding-bottom: 0.4em;background-color: white;}#sk-container-id-2 div.sk-label label {font-family: monospace;font-weight: bold;display: inline-block;line-height: 1.2em;}#sk-container-id-2 div.sk-label-container {text-align: center;}#sk-container-id-2 div.sk-container {/* jupyter's `normalize.less` sets `[hidden] { display: none; }` but bootstrap.min.css set `[hidden] { display: none !important; }` so we also need the `!important` here to be able to override the default hidden behavior on the sphinx rendered scikit-learn.org. See: https://github.com/scikit-learn/scikit-learn/issues/21755 */display: inline-block !important;position: relative;}#sk-container-id-2 div.sk-text-repr-fallback {display: none;}</style><div id=\"sk-container-id-2\" class=\"sk-top-container\"><div class=\"sk-text-repr-fallback\"><pre>GridSearchCV(cv=3, estimator=RandomForestClassifier(),\n",
       "             param_grid=[{&#x27;max_features&#x27;: [48, 64],\n",
       "                          &#x27;n_estimators&#x27;: [960, 1500]}],\n",
       "             return_train_score=True, scoring=&#x27;accuracy&#x27;, verbose=10)</pre><b>In a Jupyter environment, please rerun this cell to show the HTML representation or trust the notebook. <br />On GitHub, the HTML representation is unable to render, please try loading this page with nbviewer.org.</b></div><div class=\"sk-container\" hidden><div class=\"sk-item sk-dashed-wrapped\"><div class=\"sk-label-container\"><div class=\"sk-label sk-toggleable\"><input class=\"sk-toggleable__control sk-hidden--visually\" id=\"sk-estimator-id-4\" type=\"checkbox\" ><label for=\"sk-estimator-id-4\" class=\"sk-toggleable__label sk-toggleable__label-arrow\">GridSearchCV</label><div class=\"sk-toggleable__content\"><pre>GridSearchCV(cv=3, estimator=RandomForestClassifier(),\n",
       "             param_grid=[{&#x27;max_features&#x27;: [48, 64],\n",
       "                          &#x27;n_estimators&#x27;: [960, 1500]}],\n",
       "             return_train_score=True, scoring=&#x27;accuracy&#x27;, verbose=10)</pre></div></div></div><div class=\"sk-parallel\"><div class=\"sk-parallel-item\"><div class=\"sk-item\"><div class=\"sk-label-container\"><div class=\"sk-label sk-toggleable\"><input class=\"sk-toggleable__control sk-hidden--visually\" id=\"sk-estimator-id-5\" type=\"checkbox\" ><label for=\"sk-estimator-id-5\" class=\"sk-toggleable__label sk-toggleable__label-arrow\">estimator: RandomForestClassifier</label><div class=\"sk-toggleable__content\"><pre>RandomForestClassifier()</pre></div></div></div><div class=\"sk-serial\"><div class=\"sk-item\"><div class=\"sk-estimator sk-toggleable\"><input class=\"sk-toggleable__control sk-hidden--visually\" id=\"sk-estimator-id-6\" type=\"checkbox\" ><label for=\"sk-estimator-id-6\" class=\"sk-toggleable__label sk-toggleable__label-arrow\">RandomForestClassifier</label><div class=\"sk-toggleable__content\"><pre>RandomForestClassifier()</pre></div></div></div></div></div></div></div></div></div></div>"
      ],
      "text/plain": [
       "GridSearchCV(cv=3, estimator=RandomForestClassifier(),\n",
       "             param_grid=[{'max_features': [48, 64],\n",
       "                          'n_estimators': [960, 1500]}],\n",
       "             return_train_score=True, scoring='accuracy', verbose=10)"
      ]
     },
     "execution_count": 76,
     "metadata": {},
     "output_type": "execute_result"
    }
   ],
   "source": [
    "param_grid_rfc = [\n",
    "    {'n_estimators': [960, 1500], 'max_features': [48, 64]}\n",
    "]\n",
    "\n",
    "grid_search_rfc = GridSearchCV(rfc, param_grid_rfc, cv=3, scoring='accuracy', return_train_score=True, verbose=10)\n",
    "grid_search_rfc.fit(X_train_grid, y_train_grid)"
   ]
  },
  {
   "cell_type": "code",
   "execution_count": 77,
   "id": "56736b84",
   "metadata": {},
   "outputs": [
    {
     "name": "stdout",
     "output_type": "stream",
     "text": [
      "Best estimator for Random Forest is: {'max_features': 48, 'n_estimators': 1500}\n",
      "0.9421111111111111 {'max_features': 48, 'n_estimators': 960}\n",
      "0.9426666666666667 {'max_features': 48, 'n_estimators': 1500}\n",
      "0.9421111111111111 {'max_features': 64, 'n_estimators': 960}\n",
      "0.9417777777777777 {'max_features': 64, 'n_estimators': 1500}\n"
     ]
    }
   ],
   "source": [
    "print('Best estimator for Random Forest is:', grid_search_rfc.best_params_)\n",
    "\n",
    "cvres_rfc = grid_search_rfc.cv_results_\n",
    "\n",
    "for mean_score, params in zip(cvres_rfc[\"mean_test_score\"], cvres_rfc[\"params\"]):\n",
    "    print(mean_score, params)\n",
    "\n",
    "rfc_final = grid_search_rfc.best_estimator_"
   ]
  },
  {
   "cell_type": "markdown",
   "id": "a7d930ad",
   "metadata": {},
   "source": [
    "Let's now train the most promising model on the whole training set with cross validation"
   ]
  },
  {
   "cell_type": "code",
   "execution_count": 80,
   "id": "f24b4a17",
   "metadata": {},
   "outputs": [
    {
     "name": "stdout",
     "output_type": "stream",
     "text": [
      "Accuracy of best KNeighbors Classifier: 0.97035\n"
     ]
    }
   ],
   "source": [
    "knc_y_predict = cross_val_predict(knc_final, X_train, y_train, cv=3)\n",
    "print('Accuracy of best KNeighbors Classifier:', accuracy_score(knc_y_predict, y_train))"
   ]
  },
  {
   "cell_type": "markdown",
   "id": "272f060a",
   "metadata": {},
   "source": [
    "Perfect! Seems like <b>KNeighbors Classifier</b> is the model to go with!"
   ]
  },
  {
   "cell_type": "markdown",
   "id": "4ea8127b",
   "metadata": {},
   "source": [
    "Let's analyze the errors that this model made"
   ]
  },
  {
   "cell_type": "markdown",
   "id": "ad2cf825",
   "metadata": {},
   "source": [
    "## Error Analysis"
   ]
  },
  {
   "cell_type": "code",
   "execution_count": 81,
   "id": "de1f52d5",
   "metadata": {},
   "outputs": [
    {
     "data": {
      "image/png": "[encoded data removed]",
      "text/plain": [
       "<Figure size 480x480 with 1 Axes>"
      ]
     },
     "metadata": {},
     "output_type": "display_data"
    }
   ],
   "source": [
    "from sklearn.metrics import confusion_matrix\n",
    "conf_mx = confusion_matrix(knc_y_predict, y_train)\n",
    "\n",
    "plt.matshow(conf_mx, cmap=plt.cm.gray)\n",
    "plt.show()"
   ]
  },
  {
   "cell_type": "code",
   "execution_count": 82,
   "id": "e943bda0",
   "metadata": {},
   "outputs": [
    {
     "data": {
      "image/png": "[encoded data removed]",
      "text/plain": [
       "<Figure size 480x480 with 1 Axes>"
      ]
     },
     "metadata": {},
     "output_type": "display_data"
    }
   ],
   "source": [
    "row_sums = conf_mx.sum(axis=1, keepdims=True)\n",
    "norm_conf_mx = conf_mx /row_sums\n",
    "np.fill_diagonal(norm_conf_mx, 0)\n",
    "plt.matshow(norm_conf_mx, cmap=plt.cm.gray)\n",
    "plt.show()"
   ]
  },
  {
   "cell_type": "markdown",
   "id": "6f1f804a",
   "metadata": {},
   "source": [
    "Next, we will augment the data and retrain our model. Hopefully, we can get an even better accuracy!"
   ]
  },
  {
   "cell_type": "markdown",
   "id": "d5ea401c",
   "metadata": {},
   "source": [
    "## Data Augmentation"
   ]
  },
  {
   "cell_type": "code",
   "execution_count": 97,
   "id": "a401b3e5",
   "metadata": {},
   "outputs": [
    {
     "data": {
      "text/plain": [
       "300000"
      ]
     },
     "execution_count": 97,
     "metadata": {},
     "output_type": "execute_result"
    }
   ],
   "source": [
    "from scipy.ndimage import shift\n",
    "import random\n",
    "import numpy as np\n",
    "\n",
    "aug_X_train = X_train.values.tolist()\n",
    "aug_y_train = y_train.values.tolist()\n",
    "l = len(X_train)\n",
    "\n",
    "to_iter = zip(aug_X_train.copy(), aug_y_train.copy())\n",
    "\n",
    "for img, label in to_iter:\n",
    "    for sh in ((0, 1), (1, 0), (-1, 0), (0, -1)):\n",
    "        updated_row = shift(np.array(img).reshape(28, 28), sh, cval=0, mode='constant')\n",
    "        updated_row_flat = updated_row.flatten()\n",
    "        aug_X_train.append(updated_row_flat)\n",
    "        aug_y_train.append(label)\n",
    "\n",
    "len(aug_X_train)"
   ]
  },
  {
   "cell_type": "code",
   "execution_count": 103,
   "id": "3d0e7683",
   "metadata": {},
   "outputs": [
    {
     "data": {
      "image/png": "[encoded data removed]",
      "text/plain": [
       "<Figure size 640x480 with 1 Axes>"
      ]
     },
     "metadata": {},
     "output_type": "display_data"
    }
   ],
   "source": [
    "random_digit = randrange(l, len(aug_X_train))\n",
    "show_digit(aug_X_train[random_digit])"
   ]
  },
  {
   "cell_type": "code",
   "execution_count": 107,
   "id": "df616366",
   "metadata": {
    "scrolled": true
   },
   "outputs": [],
   "source": [
    "aug_X_train = np.array(aug_X_train)\n",
    "aug_y_train = np.array(aug_y_train)\n",
    "\n",
    "shuffle_idx = np.random.permutation(len(aug_X_train))\n",
    "aug_X_train = aug_X_train[shuffle_idx]\n",
    "aug_y_train = aug_y_train[shuffle_idx]"
   ]
  },
  {
   "cell_type": "code",
   "execution_count": 112,
   "id": "2ec72d0e",
   "metadata": {},
   "outputs": [
    {
     "data": {
      "text/html": [
       "<style>#sk-container-id-4 {color: black;background-color: white;}#sk-container-id-4 pre{padding: 0;}#sk-container-id-4 div.sk-toggleable {background-color: white;}#sk-container-id-4 label.sk-toggleable__label {cursor: pointer;display: block;width: 100%;margin-bottom: 0;padding: 0.3em;box-sizing: border-box;text-align: center;}#sk-container-id-4 label.sk-toggleable__label-arrow:before {content: \"▸\";float: left;margin-right: 0.25em;color: #696969;}#sk-container-id-4 label.sk-toggleable__label-arrow:hover:before {color: black;}#sk-container-id-4 div.sk-estimator:hover label.sk-toggleable__label-arrow:before {color: black;}#sk-container-id-4 div.sk-toggleable__content {max-height: 0;max-width: 0;overflow: hidden;text-align: left;background-color: #f0f8ff;}#sk-container-id-4 div.sk-toggleable__content pre {margin: 0.2em;color: black;border-radius: 0.25em;background-color: #f0f8ff;}#sk-container-id-4 input.sk-toggleable__control:checked~div.sk-toggleable__content {max-height: 200px;max-width: 100%;overflow: auto;}#sk-container-id-4 input.sk-toggleable__control:checked~label.sk-toggleable__label-arrow:before {content: \"▾\";}#sk-container-id-4 div.sk-estimator input.sk-toggleable__control:checked~label.sk-toggleable__label {background-color: #d4ebff;}#sk-container-id-4 div.sk-label input.sk-toggleable__control:checked~label.sk-toggleable__label {background-color: #d4ebff;}#sk-container-id-4 input.sk-hidden--visually {border: 0;clip: rect(1px 1px 1px 1px);clip: rect(1px, 1px, 1px, 1px);height: 1px;margin: -1px;overflow: hidden;padding: 0;position: absolute;width: 1px;}#sk-container-id-4 div.sk-estimator {font-family: monospace;background-color: #f0f8ff;border: 1px dotted black;border-radius: 0.25em;box-sizing: border-box;margin-bottom: 0.5em;}#sk-container-id-4 div.sk-estimator:hover {background-color: #d4ebff;}#sk-container-id-4 div.sk-parallel-item::after {content: \"\";width: 100%;border-bottom: 1px solid gray;flex-grow: 1;}#sk-container-id-4 div.sk-label:hover label.sk-toggleable__label {background-color: #d4ebff;}#sk-container-id-4 div.sk-serial::before {content: \"\";position: absolute;border-left: 1px solid gray;box-sizing: border-box;top: 0;bottom: 0;left: 50%;z-index: 0;}#sk-container-id-4 div.sk-serial {display: flex;flex-direction: column;align-items: center;background-color: white;padding-right: 0.2em;padding-left: 0.2em;position: relative;}#sk-container-id-4 div.sk-item {position: relative;z-index: 1;}#sk-container-id-4 div.sk-parallel {display: flex;align-items: stretch;justify-content: center;background-color: white;position: relative;}#sk-container-id-4 div.sk-item::before, #sk-container-id-4 div.sk-parallel-item::before {content: \"\";position: absolute;border-left: 1px solid gray;box-sizing: border-box;top: 0;bottom: 0;left: 50%;z-index: -1;}#sk-container-id-4 div.sk-parallel-item {display: flex;flex-direction: column;z-index: 1;position: relative;background-color: white;}#sk-container-id-4 div.sk-parallel-item:first-child::after {align-self: flex-end;width: 50%;}#sk-container-id-4 div.sk-parallel-item:last-child::after {align-self: flex-start;width: 50%;}#sk-container-id-4 div.sk-parallel-item:only-child::after {width: 0;}#sk-container-id-4 div.sk-dashed-wrapped {border: 1px dashed gray;margin: 0 0.4em 0.5em 0.4em;box-sizing: border-box;padding-bottom: 0.4em;background-color: white;}#sk-container-id-4 div.sk-label label {font-family: monospace;font-weight: bold;display: inline-block;line-height: 1.2em;}#sk-container-id-4 div.sk-label-container {text-align: center;}#sk-container-id-4 div.sk-container {/* jupyter's `normalize.less` sets `[hidden] { display: none; }` but bootstrap.min.css set `[hidden] { display: none !important; }` so we also need the `!important` here to be able to override the default hidden behavior on the sphinx rendered scikit-learn.org. See: https://github.com/scikit-learn/scikit-learn/issues/21755 */display: inline-block !important;position: relative;}#sk-container-id-4 div.sk-text-repr-fallback {display: none;}</style><div id=\"sk-container-id-4\" class=\"sk-top-container\"><div class=\"sk-text-repr-fallback\"><pre>KNeighborsClassifier(n_neighbors=4, weights=&#x27;distance&#x27;)</pre><b>In a Jupyter environment, please rerun this cell to show the HTML representation or trust the notebook. <br />On GitHub, the HTML representation is unable to render, please try loading this page with nbviewer.org.</b></div><div class=\"sk-container\" hidden><div class=\"sk-item\"><div class=\"sk-estimator sk-toggleable\"><input class=\"sk-toggleable__control sk-hidden--visually\" id=\"sk-estimator-id-8\" type=\"checkbox\" checked><label for=\"sk-estimator-id-8\" class=\"sk-toggleable__label sk-toggleable__label-arrow\">KNeighborsClassifier</label><div class=\"sk-toggleable__content\"><pre>KNeighborsClassifier(n_neighbors=4, weights=&#x27;distance&#x27;)</pre></div></div></div></div></div>"
      ],
      "text/plain": [
       "KNeighborsClassifier(n_neighbors=4, weights='distance')"
      ]
     },
     "execution_count": 112,
     "metadata": {},
     "output_type": "execute_result"
    }
   ],
   "source": [
    "final_classifier = KNeighborsClassifier(**grid_search_knc.best_params_)\n",
    "final_classifier.fit(aug_X_train, aug_y_train)"
   ]
  },
  {
   "cell_type": "markdown",
   "id": "cd33ceb1",
   "metadata": {},
   "source": [
    "Let's test now on the test set"
   ]
  },
  {
   "cell_type": "code",
   "execution_count": 115,
   "id": "f832815c",
   "metadata": {},
   "outputs": [
    {
     "data": {
      "text/plain": [
       "0.9763"
      ]
     },
     "execution_count": 115,
     "metadata": {},
     "output_type": "execute_result"
    }
   ],
   "source": [
    "X_test = X_test.values\n",
    "final_predictions = final_classifier.predict(X_test)\n",
    "accuracy_score(final_predictions, y_test)"
   ]
  },
  {
   "cell_type": "markdown",
   "id": "5fbaa926",
   "metadata": {},
   "source": [
    "Whoo! We managed to build a MNIST classifier with over <b>97%</b> accuracy!"
   ]
  },
  {
   "cell_type": "markdown",
   "id": "3508d0eb",
   "metadata": {},
   "source": [
    "## Model Export"
   ]
  },
  {
   "cell_type": "code",
   "execution_count": 117,
   "id": "9e9868f8",
   "metadata": {},
   "outputs": [
    {
     "data": {
      "text/plain": [
       "['mnist_classifier.pkl']"
      ]
     },
     "execution_count": 117,
     "metadata": {},
     "output_type": "execute_result"
    }
   ],
   "source": [
    "import joblib\n",
    "\n",
    "joblib.dump(final_classifier, \"mnist_classifier.pkl\")"
   ]
  }
 ],
 "metadata": {
  "kernelspec": {
   "display_name": "Python 3 (ipykernel)",
   "language": "python",
   "name": "python3"
  },
  "language_info": {
   "codemirror_mode": {
    "name": "ipython",
    "version": 3
   },
   "file_extension": ".py",
   "mimetype": "text/x-python",
   "name": "python",
   "nbconvert_exporter": "python",
   "pygments_lexer": "ipython3",
   "version": "3.11.2"
  }
 },
 "nbformat": 4,
 "nbformat_minor": 5
}
